{
 "cells": [
  {
   "cell_type": "markdown",
   "metadata": {},
   "source": [
    "# Tarea corta 01\n",
    "\n",
    "Machine Learning - Maestría de Ciencias de la computación\n",
    "Profesor Dr. Jose Carranza Rojas\n",
    "\n",
    "Estudiantes:\n",
    "+ Jason Carmona (20NN...)\n",
    "+ Edisson López (2013103311)"
   ]
  },
  {
   "cell_type": "markdown",
   "metadata": {},
   "source": [
    "## Usando listas"
   ]
  },
  {
   "cell_type": "code",
   "execution_count": 27,
   "metadata": {},
   "outputs": [
    {
     "output_type": "execute_result",
     "data": {
      "text/plain": [
       "' Code of Jason Carmona '"
      ]
     },
     "metadata": {},
     "execution_count": 27
    }
   ],
   "source": [
    "\"\"\" Code of Jason Carmona \"\"\"\n"
   ]
  },
  {
   "cell_type": "markdown",
   "metadata": {},
   "source": [
    "## Usando Pytorch"
   ]
  },
  {
   "cell_type": "code",
   "execution_count": 28,
   "metadata": {},
   "outputs": [],
   "source": [
    "import torch\n",
    "\n"
   ]
  },
  {
   "cell_type": "code",
   "execution_count": 32,
   "metadata": {},
   "outputs": [],
   "source": [
    "\n",
    "dtype = torch.float\n",
    "device = torch.device(\"cpu\")\n",
    "# Uncomment next to run on GPU. Will be until 30x faster.\n",
    "# device = torch.device(\"cuda:0\") \n"
   ]
  },
  {
   "cell_type": "code",
   "execution_count": 33,
   "metadata": {},
   "outputs": [],
   "source": [
    "\n",
    "class LinearRegression:\n",
    "    \n",
    "    def __init__(self, n_features):\n",
    "        ### PREV -> self.W = np.random.normal(-1,1,(n_features,1)) #weights\n",
    "        self.W = torch.normal(-1,1,(n_features,1)) #weights\n",
    "        ### PREV -> self.b = np.random.rand(1) #intercept\n",
    "        self.b = torch.randn(1) #intercept\n",
    "        \n",
    "    def descent(self, delta_W, delta_b, learning_rate):\n",
    "        #updating the weights with the calculated gradients\n",
    "        self.W -= learning_rate*delta_W\n",
    "        self.b -= learning_rate*delta_b\n",
    "        \n",
    "    def derivatives(self, X, Y):\n",
    "        #partial derivative of cost w.r.t the weights\n",
    "        delta_W = np.sum(np.multiply(((np.matmul(X,self.W)+self.b)-Y), X))*2/X.shape[0]\n",
    "        #partial derivative of cost w.r.t the intercept\n",
    "        delta_b = np.sum(((np.matmul(X,self.W)+self.b)-Y))*2/X.shape[0]\n",
    "        return delta_W, delta_b\n",
    "    \n",
    "    #fit\n",
    "    def train(self, X, Y, epochs=50, learning_rate=0.1):\n",
    "        X = np.array(X).reshape(-1,1)\n",
    "        Y = np.array(Y).reshape(-1,1)\n",
    "\n",
    "        self.parameter_cache = []       \n",
    "        for i in range(epochs):\n",
    "            \n",
    "            delta_W, delta_b = self.derivatives(X, Y)\n",
    "            self.descent(delta_W, delta_b, learning_rate)\n",
    "            \n",
    "            self.parameter_cache.append(np.array((self.W,self.b)))\n",
    "            \n",
    "        return self.W, self.b, self.parameter_cache\n",
    "\n",
    "    def predict(self, X):\n",
    "#         print(X.shape, X.reshape(-1,1).shape)\n",
    "        product = np.matmul(np.array(X).reshape(-1,1),self.W)+self.b\n",
    "        return product\n",
    "\n",
    "    "
   ]
  },
  {
   "cell_type": "markdown",
   "metadata": {},
   "source": [
    "\n",
    "\n",
    "\n",
    "--- última línea ---"
   ]
  }
 ],
 "metadata": {
  "kernelspec": {
   "display_name": "Python 3",
   "language": "python",
   "name": "python3"
  },
  "language_info": {
   "codemirror_mode": {
    "name": "ipython",
    "version": 3
   },
   "file_extension": ".py",
   "mimetype": "text/x-python",
   "name": "python",
   "nbconvert_exporter": "python",
   "pygments_lexer": "ipython3",
   "version": "3.8.5-final"
  }
 },
 "nbformat": 4,
 "nbformat_minor": 5
}