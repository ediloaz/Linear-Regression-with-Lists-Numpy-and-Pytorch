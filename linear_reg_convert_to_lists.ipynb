{
 "cells": [
  {
   "cell_type": "code",
   "execution_count": 1,
   "id": "molecular-anniversary",
   "metadata": {},
   "outputs": [],
   "source": [
    "import numpy as np\n",
    "import matplotlib.pyplot as plt\n",
    "import pandas as pd\n",
    "import time\n",
    "import random\n",
    "from functools import reduce"
   ]
  },
  {
   "cell_type": "code",
   "execution_count": 2,
   "id": "random-diesel",
   "metadata": {},
   "outputs": [],
   "source": [
    "class LinearRegression:\n",
    "    \n",
    "    def __init__(self, n_features):\n",
    "        #         self.W = np.random.normal(-1,1,(n_features,1)) #weights\n",
    "        #         self.b = np.random.rand(1) #intercept\n",
    "        self.W = self.randomNormal(-1,1,n_features,1) #weights\n",
    "        self.b = self.randomArray(1) #intercept\n",
    "\n",
    "    def randomArray(self, size):\n",
    "        array = [random.uniform(0, 1) for _ in range(size)]\n",
    "        return array\n",
    "    \n",
    "    def randomNormal(self, start, stop, rows, columns):\n",
    "        matrix = []\n",
    "        for i in range(rows):\n",
    "            matrix.append([random.uniform(start, stop) for _ in range(columns)])\n",
    "        return matrix;\n",
    "    \n",
    "    # determines if a value is a matrix vs a simple array|scalar\n",
    "    def isNonEmptyMatrix(self, matrix):\n",
    "        return len(matrix) > 0 and (type(matrix[0]) == list or type(matrix[0]) == np.ndarray)\n",
    "\n",
    "    def scalarsubs(self, x, scalar):\n",
    "        if self.isNonEmptyMatrix(x):\n",
    "            matrix = [[item[0] - scalar] for i, item in enumerate(x)]\n",
    "        else:\n",
    "            matrix = [(item - scalar) for i, item in enumerate(x)]\n",
    "        return matrix\n",
    "    \n",
    "    def scalarsum(self, x, scalar):\n",
    "        matrix = [[item[0] + scalar[0]] for i, item in enumerate(x)]\n",
    "        return matrix\n",
    "\n",
    "    def multiply(self, x, y):\n",
    "        matrix = [[item[0] * y[i][0]] for i, item in enumerate(x)]\n",
    "        return matrix\n",
    "    \n",
    "    def matsubs(self, x, y):\n",
    "        matrix = [[item[0] - y[i][0]] for i, item in enumerate(x)]\n",
    "        return matrix\n",
    "    \n",
    "    def reducesum(self, x):\n",
    "        sum = reduce(lambda a, b: a + b[0], x, 0)\n",
    "        return sum\n",
    "    \n",
    "    def matmul(self, x, y):\n",
    "        matrix = [[item[0] * y[0][0]] for i, item in enumerate(x)]\n",
    "        return matrix\n",
    "                \n",
    "    def descent(self, delta_W, delta_b, learning_rate):\n",
    "        #updating the weights with the calculated gradients\n",
    "        self.W = self.scalarsubs(self.W, learning_rate*delta_W)\n",
    "        self.b = self.scalarsubs(self.b, learning_rate*delta_b)   \n",
    "    \n",
    "    def derivatives(self, X, Y):\n",
    "        xMul = self.matmul(X,self.W)\n",
    "        xSum = self.scalarsum(xMul, self.b)\n",
    "        xSubs = self.matsubs(xSum, Y)\n",
    "        xMulMat = self.multiply(xSubs, X)\n",
    "        \n",
    "        wReduceSum = self.reducesum(xMulMat)\n",
    "        dReduceSum = self.reducesum(xSubs)\n",
    "\n",
    "        #partial derivative of cost w.r.t the weights\n",
    "        delta_W = wReduceSum*2/len(X)\n",
    "        #partial derivative of cost w.r.t the intercept\n",
    "        delta_b = dReduceSum*2/len(X)\n",
    "        \n",
    "        return delta_W, delta_b\n",
    "    \n",
    "    #fit\n",
    "    def train(self, X, Y, epochs=50, learning_rate=0.1):\n",
    "        X = np.array(X).reshape(-1,1).tolist()\n",
    "        Y = np.array(Y).reshape(-1,1).tolist()\n",
    "        self.parameter_cache = []\n",
    "        \n",
    "        for i in range(epochs):\n",
    "#             print(f'i={i} of {epochs}')\n",
    "            delta_W, delta_b = self.derivatives(X, Y)\n",
    "            self.descent(delta_W, delta_b, learning_rate)\n",
    "            self.parameter_cache.append(np.array((self.W,self.b)))\n",
    "            \n",
    "        return self.W, self.b, self.parameter_cache\n",
    "\n",
    "    def predict(self, X):\n",
    "        xMul = self.matmul(np.array(X).reshape(-1,1), self.W)\n",
    "        xSum = self.scalarsum(xMul, self.b)\n",
    "        return xSum\n",
    "    \n",
    "#     # these methods go over the different structures from a `vector` perspective, but they are slower\n",
    "#     def scalarsubs(self, x, scalar):\n",
    "#         if self.isNonEmptyMatrix(x):\n",
    "#             x = list(map(lambda item: self.scalarsubs(item, scalar), x))\n",
    "#         else:\n",
    "#             x = list(map(lambda item: item - scalar, x))\n",
    "#         return x\n",
    "#     def scalarsum(self, x, scalar):\n",
    "#         if self.isNonEmptyMatrix(x):\n",
    "#             x = list(map(lambda item: self.scalarsum(item, scalar), x))\n",
    "#         else:\n",
    "#             x = list(map(lambda item: item + scalar[0], x))\n",
    "#         return x\n",
    "#     def matmulslow(self, x, y):\n",
    "#         if (self.isNonEmptyMatrix(x) and len(x[0]) != len(y)) or (not self.isNonEmptyMatrix(x) and len(x) != len(y)):\n",
    "#             raise Exception('dimentions not compatible')\n",
    "#         lineTotal = 0\n",
    "#         resultArray = []\n",
    "#         for i in range(len(x)):\n",
    "#             if self.isNonEmptyMatrix(x):\n",
    "#                 resultArray.append(self.matmul(x[i], y))\n",
    "#             else:\n",
    "#                 if self.isNonEmptyMatrix(y):\n",
    "#                     resultArray.append(self.matmul(x, y[i]))\n",
    "#                 else: \n",
    "#                     lineTotal += x[i] * y[i]\n",
    "#         return lineTotal if resultArray == [] else resultArray\n",
    "    "
   ]
  },
  {
   "cell_type": "code",
   "execution_count": 4,
   "id": "systematic-brook",
   "metadata": {
    "tags": []
   },
   "outputs": [],
   "source": [
    "df = pd.read_csv(\"https://raw.githubusercontent.com/Baakchsu/LinearRegression/master/weight-height.csv\")\n",
    "# df.head()"
   ]
  },
  {
   "cell_type": "code",
   "execution_count": 5,
   "id": "traditional-brooks",
   "metadata": {},
   "outputs": [],
   "source": [
    "reg = LinearRegression(n_features=1)"
   ]
  },
  {
   "cell_type": "code",
   "execution_count": 6,
   "id": "extreme-myrtle",
   "metadata": {
    "tags": []
   },
   "outputs": [],
   "source": [
    "# feature engineering?\n",
    "x = (df['Weight']-df['Weight'].mean())/df['Weight'].std() #standardization of the dataset\n",
    "y = (df[\"Height\"]-df['Height'].mean())/df[\"Height\"].std()\n",
    "# x.shape, y.shape"
   ]
  },
  {
   "cell_type": "code",
   "execution_count": 7,
   "id": "designing-bernard",
   "metadata": {},
   "outputs": [
    {
     "name": "stdout",
     "output_type": "stream",
     "text": [
      "i=0 of 50\n",
      "i=1 of 50\n",
      "i=2 of 50\n",
      "i=3 of 50\n",
      "i=4 of 50\n",
      "i=5 of 50\n",
      "i=6 of 50\n",
      "i=7 of 50\n",
      "i=8 of 50\n",
      "i=9 of 50\n",
      "i=10 of 50"
     ]
    },
    {
     "name": "stderr",
     "output_type": "stream",
     "text": [
      "<ipython-input-2-93548933c4c6>:81: VisibleDeprecationWarning: Creating an ndarray from ragged nested sequences (which is a list-or-tuple of lists-or-tuples-or ndarrays with different lengths or shapes) is deprecated. If you meant to do this, you must specify 'dtype=object' when creating the ndarray.\n",
      "  self.parameter_cache.append(np.array((self.W,self.b)))\n"
     ]
    },
    {
     "name": "stdout",
     "output_type": "stream",
     "text": [
      "\n",
      "i=11 of 50\n",
      "i=12 of 50\n",
      "i=13 of 50\n",
      "i=14 of 50\n",
      "i=15 of 50\n",
      "i=16 of 50\n",
      "i=17 of 50\n",
      "i=18 of 50\n",
      "i=19 of 50\n",
      "i=20 of 50\n",
      "i=21 of 50\n",
      "i=22 of 50\n",
      "i=23 of 50\n",
      "i=24 of 50\n",
      "i=25 of 50\n",
      "i=26 of 50\n",
      "i=27 of 50\n",
      "i=28 of 50\n",
      "i=29 of 50\n",
      "i=30 of 50\n",
      "i=31 of 50\n",
      "i=32 of 50\n",
      "i=33 of 50\n",
      "i=34 of 50\n",
      "i=35 of 50\n",
      "i=36 of 50\n",
      "i=37 of 50\n",
      "i=38 of 50\n",
      "i=39 of 50\n",
      "i=40 of 50\n",
      "i=41 of 50\n",
      "i=42 of 50\n",
      "i=43 of 50\n",
      "i=44 of 50\n",
      "i=45 of 50\n",
      "i=46 of 50\n",
      "i=47 of 50\n",
      "i=48 of 50\n",
      "i=49 of 50\n",
      "[0.9247329020502072] 1.880720645632358e-06\n"
     ]
    },
    {
     "data": {
      "text/plain": [
       "[<matplotlib.lines.Line2D at 0x11758e1f0>]"
      ]
     },
     "execution_count": 7,
     "metadata": {},
     "output_type": "execute_result"
    },
    {
     "data": {
      "image/png": "[encoded data removed]",
      "text/plain": [
       "<Figure size 432x288 with 1 Axes>"
      ]
     },
     "metadata": {
      "needs_background": "light"
     },
     "output_type": "display_data"
    }
   ],
   "source": [
    "# params = reg.train(x, y, epochs=2, learning_rate=0.000001)\n",
    "# params = reg.train(x, y, epochs=2, learning_rate=0.1)\n",
    "params = reg.train(x, y, epochs=50, learning_rate=0.1)\n",
    "\n",
    "print(params[0][-1], params[1][-1])\n",
    "plt.scatter(x[:180], y[:180], color='red')\n",
    "pred = reg.predict(np.array(x[:180]))\n",
    "plt.plot(x[:180], pred[:180])"
   ]
  },
  {
   "cell_type": "code",
   "execution_count": 13,
   "id": "fifth-rochester",
   "metadata": {},
   "outputs": [],
   "source": [
    "def foo(w, b, n):\n",
    "    x = np.random.rand(n,1).tolist()\n",
    "    # y = np.power(2, (w*x)) + b\n",
    "    y = list(map(lambda item: pow(item[0]*w, 2)+b, x))\n",
    "    return x, y\n",
    "\n",
    "x, y = foo(9, 3, 2500)\n"
   ]
  },
  {
   "cell_type": "code",
   "execution_count": 14,
   "id": "celtic-ranking",
   "metadata": {},
   "outputs": [],
   "source": [
    "reg = LinearRegression(n_features=1)"
   ]
  },
  {
   "cell_type": "code",
   "execution_count": 15,
   "id": "helpful-agent",
   "metadata": {},
   "outputs": [
    {
     "name": "stdout",
     "output_type": "stream",
     "text": [
      "i=0 of 90\n",
      "i=1 of 90\n",
      "i=2 of 90\n",
      "i=3 of 90\n",
      "i=4 of 90\n",
      "i=5 of 90\n",
      "i=6 of 90\n",
      "i=7 of 90\n",
      "i=8 of 90\n",
      "i=9 of 90\n",
      "i=10 of 90\n",
      "i=11 of 90\n",
      "i=12 of 90\n",
      "i=13 of 90\n",
      "i=14 of 90\n",
      "i=15 of 90\n",
      "i=16 of 90\n",
      "i=17 of 90\n",
      "i=18 of 90\n",
      "i=19 of 90\n",
      "i=20 of 90\n",
      "i=21 of 90\n",
      "i=22 of 90\n",
      "i=23 of 90\n",
      "i=24 of 90\n",
      "i=25 of 90\n",
      "i=26 of 90\n",
      "i=27 of 90\n",
      "i=28 of 90\n",
      "i=29 of 90\n",
      "i=30 of 90\n",
      "i=31 of 90\n",
      "i=32 of 90\n",
      "i=33 of 90\n",
      "i=34 of 90\n",
      "i=35 of 90\n",
      "i=36 of 90\n",
      "i=37 of 90\n",
      "i=38 of 90\n",
      "i=39 of 90\n",
      "i=40 of 90\n",
      "i=41 of 90\n",
      "i=42 of 90\n",
      "i=43 of 90\n"
     ]
    },
    {
     "name": "stderr",
     "output_type": "stream",
     "text": [
      "<ipython-input-2-93548933c4c6>:81: VisibleDeprecationWarning: Creating an ndarray from ragged nested sequences (which is a list-or-tuple of lists-or-tuples-or ndarrays with different lengths or shapes) is deprecated. If you meant to do this, you must specify 'dtype=object' when creating the ndarray.\n",
      "  self.parameter_cache.append(np.array((self.W,self.b)))\n"
     ]
    },
    {
     "name": "stdout",
     "output_type": "stream",
     "text": [
      "i=44 of 90\n",
      "i=45 of 90\n",
      "i=46 of 90\n",
      "i=47 of 90\n",
      "i=48 of 90\n",
      "i=49 of 90\n",
      "i=50 of 90\n",
      "i=51 of 90\n",
      "i=52 of 90\n",
      "i=53 of 90\n",
      "i=54 of 90\n",
      "i=55 of 90\n",
      "i=56 of 90\n",
      "i=57 of 90\n",
      "i=58 of 90\n",
      "i=59 of 90\n",
      "i=60 of 90\n",
      "i=61 of 90\n",
      "i=62 of 90\n",
      "i=63 of 90\n",
      "i=64 of 90\n",
      "i=65 of 90\n",
      "i=66 of 90\n",
      "i=67 of 90\n",
      "i=68 of 90\n",
      "i=69 of 90\n",
      "i=70 of 90\n",
      "i=71 of 90\n",
      "i=72 of 90\n",
      "i=73 of 90\n",
      "i=74 of 90\n",
      "i=75 of 90\n",
      "i=76 of 90\n",
      "i=77 of 90\n",
      "i=78 of 90\n",
      "i=79 of 90\n",
      "i=80 of 90\n",
      "i=81 of 90\n",
      "i=82 of 90\n",
      "i=83 of 90\n",
      "i=84 of 90\n",
      "i=85 of 90\n",
      "i=86 of 90\n",
      "i=87 of 90\n",
      "i=88 of 90\n",
      "i=89 of 90\n",
      "[60.92451874753513] 0.25328340984567665\n"
     ]
    },
    {
     "data": {
      "text/plain": [
       "[<matplotlib.lines.Line2D at 0x1179c2820>]"
      ]
     },
     "execution_count": 15,
     "metadata": {},
     "output_type": "execute_result"
    },
    {
     "data": {
      "image/png": "[encoded data removed]",
      "text/plain": [
       "<Figure size 432x288 with 1 Axes>"
      ]
     },
     "metadata": {
      "needs_background": "light"
     },
     "output_type": "display_data"
    }
   ],
   "source": [
    "params = reg.train(x, y, epochs=90, learning_rate=0.1)\n",
    "print(params[0][-1], params[1][-1])\n",
    "plt.scatter(x[:180], y[:180], color='red')\n",
    "pred = reg.predict(np.array(x[:180]))\n",
    "plt.plot(x[:180], pred[:180])"
   ]
  },
  {
   "cell_type": "code",
   "execution_count": null,
   "id": "daily-seller",
   "metadata": {},
   "outputs": [],
   "source": []
  }
 ],
 "metadata": {
  "kernelspec": {
   "display_name": "Python 3",
   "language": "python",
   "name": "python3"
  },
  "language_info": {
   "codemirror_mode": {
    "name": "ipython",
    "version": 3
   },
   "file_extension": ".py",
   "mimetype": "text/x-python",
   "name": "python",
   "nbconvert_exporter": "python",
   "pygments_lexer": "ipython3",
   "version": "3.9.2"
  }
 },
 "nbformat": 4,
 "nbformat_minor": 5
}
