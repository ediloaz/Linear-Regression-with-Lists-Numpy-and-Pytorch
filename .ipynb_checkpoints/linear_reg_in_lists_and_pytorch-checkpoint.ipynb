{
 "cells": [
  {
   "cell_type": "markdown",
   "metadata": {},
   "source": [
    "# Tarea corta 01\n",
    "\n",
    "Machine Learning - Maestría de Ciencias de la computación - Profesor Dr. Jose Carranza Rojas\n",
    "\n",
    "Estudiantes:\n",
    "+ Jason Carmona (20NN...)\n",
    "+ Edisson López (2013103311)"
   ]
  },
  {
   "cell_type": "markdown",
   "metadata": {},
   "source": [
    "<br /><br />\n",
    "<hr /><hr />\n",
    "\n",
    "## Usando listas"
   ]
  },
  {
   "cell_type": "code",
   "execution_count": 11,
   "metadata": {},
   "outputs": [
    {
     "data": {
      "text/plain": [
       "' Code of Jason Carmona '"
      ]
     },
     "execution_count": 11,
     "metadata": {},
     "output_type": "execute_result"
    }
   ],
   "source": [
    "\"\"\" Code of Jason Carmona \"\"\"\n"
   ]
  },
  {
   "cell_type": "markdown",
   "metadata": {},
   "source": [
    "<br /><br />\n",
    "<hr /><hr />\n",
    "\n",
    "## Usando Pytorch"
   ]
  },
  {
   "cell_type": "code",
   "execution_count": 12,
   "metadata": {},
   "outputs": [],
   "source": [
    "import torch\n",
    "import matplotlib.pyplot as plt\n",
    "import pandas as pd\n",
    "import time"
   ]
  },
  {
   "cell_type": "code",
   "execution_count": 13,
   "metadata": {},
   "outputs": [],
   "source": [
    "\n",
    "dtype = torch.float\n",
    "device = torch.device(\"cpu\")\n",
    "# Uncomment next to run on GPU. Will be until 30x faster.\n",
    "# device = torch.device(\"cuda:0\") \n"
   ]
  },
  {
   "cell_type": "code",
   "execution_count": 14,
   "metadata": {},
   "outputs": [],
   "source": [
    "\n",
    "class LinearRegression:\n",
    "    \n",
    "    def __init__(self, n_features):\n",
    "        ### PREV -> self.W = np.random.normal(-1,1,(n_features,1)) #weights\n",
    "        self.W = torch.tensor(torch.normal(-1,1,(n_features,1)), dtype=torch.float64) #weights\n",
    "        ### PREV -> self.b = np.random.rand(1) #intercept\n",
    "        self.b = torch.randn(1) #intercept\n",
    "        \n",
    "    def descent(self, delta_W, delta_b, learning_rate):\n",
    "        #updating the weights with the calculated gradients\n",
    "        self.W -= learning_rate*delta_W\n",
    "        self.b -= learning_rate*delta_b\n",
    "        \n",
    "    def derivatives(self, X, Y):\n",
    "        #partial derivative of cost w.r.t the weights\n",
    "        ### PREV -> delta_W = np.sum(np.multiply(((np.matmul(X,self.W)+self.b)-Y), X))*2/X.shape[0]\n",
    "        pre_delta_W_1 = torch.matmul(X, self.W)\n",
    "        pre_delta_W_2 = ((pre_delta_W_1 + self.b) -Y)\n",
    "        pre_delta_W_3 = torch.multiply(pre_delta_W_2, X)\n",
    "        delta_W = torch.sum(pre_delta_W_3) *2/X.shape[0]\n",
    "        \n",
    "        #partial derivative of cost w.r.t the intercept\n",
    "        ### PREV -> delta_b = np.sum( ((np.matmul(X,self.W)+self.b)-Y) )*2/X.shape[0]\n",
    "        delta_b = torch.sum( ((torch.matmul(X, self.W) + self.b) - Y) ) *2/X.shape[0]\n",
    "\n",
    "        return delta_W, delta_b\n",
    "    \n",
    "    #fit\n",
    "    def train(self, X, Y, epochs=50, learning_rate=0.1):\n",
    "        ### PREV -> X = np.array(X).reshape(-1,1)\n",
    "        X = torch.tensor(X).reshape(-1,1)\n",
    "        ### PREV -> Y = np.array(Y).reshape(-1,1)\n",
    "        Y = torch.tensor(Y).reshape(-1,1)\n",
    "\n",
    "        self.parameter_cache = []       \n",
    "        for i in range(epochs):\n",
    "            \n",
    "            delta_W, delta_b = self.derivatives(X, Y)\n",
    "            self.descent(delta_W, delta_b, learning_rate)\n",
    "            \n",
    "            ### PREV -> self.parameter_cache.append(np.array((self.W,self.b)))\n",
    "            self.parameter_cache.append(torch.tensor((self.W,self.b)))\n",
    "            \n",
    "        return self.W, self.b, self.parameter_cache\n",
    "\n",
    "    def predict(self, X):\n",
    "#         print(X.shape, X.reshape(-1,1).shape)\n",
    "        ### PREV -> product = np.matmul(torch.tensor(X).reshape(-1,1),self.W)+self.b\n",
    "        product = torch.matmul(torch.tensor(X).reshape(-1,1),self.W)+self.b\n",
    "        \n",
    "        return product\n",
    "\n",
    "    "
   ]
  },
  {
   "cell_type": "code",
   "execution_count": 15,
   "metadata": {},
   "outputs": [
    {
     "data": {
      "text/html": [
       "<div>\n",
       "<style scoped>\n",
       "    .dataframe tbody tr th:only-of-type {\n",
       "        vertical-align: middle;\n",
       "    }\n",
       "\n",
       "    .dataframe tbody tr th {\n",
       "        vertical-align: top;\n",
       "    }\n",
       "\n",
       "    .dataframe thead th {\n",
       "        text-align: right;\n",
       "    }\n",
       "</style>\n",
       "<table border=\"1\" class=\"dataframe\">\n",
       "  <thead>\n",
       "    <tr style=\"text-align: right;\">\n",
       "      <th></th>\n",
       "      <th>Gender</th>\n",
       "      <th>Height</th>\n",
       "      <th>Weight</th>\n",
       "    </tr>\n",
       "  </thead>\n",
       "  <tbody>\n",
       "    <tr>\n",
       "      <th>0</th>\n",
       "      <td>Male</td>\n",
       "      <td>73.847017</td>\n",
       "      <td>241.893563</td>\n",
       "    </tr>\n",
       "    <tr>\n",
       "      <th>1</th>\n",
       "      <td>Male</td>\n",
       "      <td>68.781904</td>\n",
       "      <td>162.310473</td>\n",
       "    </tr>\n",
       "    <tr>\n",
       "      <th>2</th>\n",
       "      <td>Male</td>\n",
       "      <td>74.110105</td>\n",
       "      <td>212.740856</td>\n",
       "    </tr>\n",
       "    <tr>\n",
       "      <th>3</th>\n",
       "      <td>Male</td>\n",
       "      <td>71.730978</td>\n",
       "      <td>220.042470</td>\n",
       "    </tr>\n",
       "    <tr>\n",
       "      <th>4</th>\n",
       "      <td>Male</td>\n",
       "      <td>69.881796</td>\n",
       "      <td>206.349801</td>\n",
       "    </tr>\n",
       "  </tbody>\n",
       "</table>\n",
       "</div>"
      ],
      "text/plain": [
       "  Gender     Height      Weight\n",
       "0   Male  73.847017  241.893563\n",
       "1   Male  68.781904  162.310473\n",
       "2   Male  74.110105  212.740856\n",
       "3   Male  71.730978  220.042470\n",
       "4   Male  69.881796  206.349801"
      ]
     },
     "execution_count": 15,
     "metadata": {},
     "output_type": "execute_result"
    }
   ],
   "source": [
    "\n",
    "#load data from simple csv file\n",
    "df = pd.read_csv(\"https://raw.githubusercontent.com/Baakchsu/LinearRegression/master/weight-height.csv\")\n",
    "df.head()\n"
   ]
  },
  {
   "cell_type": "code",
   "execution_count": 16,
   "metadata": {},
   "outputs": [],
   "source": [
    "\n",
    "x = (df['Weight']-df['Weight'].mean())/df['Weight'].std() #standardization of the dataset\n",
    "y = (df[\"Height\"]-df['Height'].mean())/df[\"Height\"].std()\n"
   ]
  },
  {
   "cell_type": "code",
   "execution_count": 17,
   "metadata": {},
   "outputs": [
    {
     "name": "stderr",
     "output_type": "stream",
     "text": [
      "<ipython-input-14-80ee166cbaa9>:5: UserWarning: To copy construct from a tensor, it is recommended to use sourceTensor.clone().detach() or sourceTensor.clone().detach().requires_grad_(True), rather than torch.tensor(sourceTensor).\n",
      "  self.W = torch.tensor(torch.normal(-1,1,(n_features,1)), dtype=torch.float64) #weights\n"
     ]
    },
    {
     "name": "stdout",
     "output_type": "stream",
     "text": [
      "tensor([0.9248], dtype=torch.float64) tensor(-4.3014e-09)\n"
     ]
    },
    {
     "name": "stderr",
     "output_type": "stream",
     "text": [
      "<ipython-input-14-80ee166cbaa9>:49: UserWarning: To copy construct from a tensor, it is recommended to use sourceTensor.clone().detach() or sourceTensor.clone().detach().requires_grad_(True), rather than torch.tensor(sourceTensor).\n",
      "  product = torch.matmul(torch.tensor(X).reshape(-1,1),self.W)+self.b\n"
     ]
    },
    {
     "data": {
      "text/plain": [
       "[<matplotlib.lines.Line2D at 0x7f38b327a730>]"
      ]
     },
     "execution_count": 17,
     "metadata": {},
     "output_type": "execute_result"
    },
    {
     "data": {
      "image/png": "[encoded data removed]",
      "text/plain": [
       "<Figure size 432x288 with 1 Axes>"
      ]
     },
     "metadata": {
      "needs_background": "light"
     },
     "output_type": "display_data"
    }
   ],
   "source": [
    "\n",
    "# Finally,\n",
    "# train and show the predict\n",
    "#\n",
    "reg = LinearRegression(n_features=1)\n",
    "params = reg.train(x, y, epochs=90, learning_rate=0.1)\n",
    "print(params[0][-1], params[1][-1])\n",
    "plt.scatter(x[:180], y[:180], color='red')\n",
    "pred = reg.predict(torch.tensor(x[:180]))\n",
    "plt.plot(x[:180], pred[:180], color='green')\n"
   ]
  },
  {
   "cell_type": "code",
   "execution_count": 18,
   "metadata": {},
   "outputs": [],
   "source": [
    "\n",
    "def foo(w, b, n):\n",
    "    ### PREV -> x = np.random.rand(n,1)\n",
    "    ### PREV -> y = np.power(2, (w*x)) + b\n",
    "    x = torch.rand(n,1, dtype=torch.float64)\n",
    "    y = torch.pow(2, (w*x)) + b \n",
    "    \n",
    "    return x, y\n",
    "\n",
    "x, y = foo(9, 3, 25000)\n"
   ]
  },
  {
   "cell_type": "markdown",
   "metadata": {},
   "source": [
    "<br />\n",
    "\n",
    "### Segundo caso: Probando con una función exponencial\n",
    "\n",
    "<br />"
   ]
  },
  {
   "cell_type": "code",
   "execution_count": 19,
   "metadata": {},
   "outputs": [
    {
     "name": "stdout",
     "output_type": "stream",
     "text": [
      "tensor([247.7082], dtype=torch.float64) tensor(-35.3175)\n"
     ]
    },
    {
     "name": "stderr",
     "output_type": "stream",
     "text": [
      "<ipython-input-14-80ee166cbaa9>:5: UserWarning: To copy construct from a tensor, it is recommended to use sourceTensor.clone().detach() or sourceTensor.clone().detach().requires_grad_(True), rather than torch.tensor(sourceTensor).\n",
      "  self.W = torch.tensor(torch.normal(-1,1,(n_features,1)), dtype=torch.float64) #weights\n",
      "<ipython-input-14-80ee166cbaa9>:31: UserWarning: To copy construct from a tensor, it is recommended to use sourceTensor.clone().detach() or sourceTensor.clone().detach().requires_grad_(True), rather than torch.tensor(sourceTensor).\n",
      "  X = torch.tensor(X).reshape(-1,1)\n",
      "<ipython-input-14-80ee166cbaa9>:33: UserWarning: To copy construct from a tensor, it is recommended to use sourceTensor.clone().detach() or sourceTensor.clone().detach().requires_grad_(True), rather than torch.tensor(sourceTensor).\n",
      "  Y = torch.tensor(Y).reshape(-1,1)\n"
     ]
    },
    {
     "data": {
      "text/plain": [
       "[<matplotlib.lines.Line2D at 0x7f38b19cfb50>]"
      ]
     },
     "execution_count": 19,
     "metadata": {},
     "output_type": "execute_result"
    },
    {
     "data": {
      "image/png": "[encoded data removed]",
      "text/plain": [
       "<Figure size 432x288 with 1 Axes>"
      ]
     },
     "metadata": {
      "needs_background": "light"
     },
     "output_type": "display_data"
    }
   ],
   "source": [
    "\n",
    "# Finally, again,\n",
    "# train and show the predict\n",
    "#\n",
    "reg = LinearRegression(n_features=1)\n",
    "params = reg.train(x, y, epochs=90, learning_rate=0.1)\n",
    "print(params[0][-1], params[1][-1])\n",
    "plt.scatter(x[:180], y[:180], color='red')\n",
    "pred = reg.predict(np.array(x[:180]))\n",
    "plt.plot(x[:180], pred[:180])\n"
   ]
  },
  {
   "cell_type": "markdown",
   "metadata": {},
   "source": [
    "\n",
    "\n",
    "\n",
    "--- última línea ---"
   ]
  },
  {
   "cell_type": "code",
   "execution_count": null,
   "metadata": {},
   "outputs": [],
   "source": []
  },
  {
   "cell_type": "code",
   "execution_count": null,
   "metadata": {},
   "outputs": [],
   "source": []
  }
 ],
 "metadata": {
  "kernelspec": {
   "display_name": "Python 3",
   "language": "python",
   "name": "python3"
  },
  "language_info": {
   "codemirror_mode": {
    "name": "ipython",
    "version": 3
   },
   "file_extension": ".py",
   "mimetype": "text/x-python",
   "name": "python",
   "nbconvert_exporter": "python",
   "pygments_lexer": "ipython3",
   "version": "3.8.5"
  }
 },
 "nbformat": 4,
 "nbformat_minor": 5
}
